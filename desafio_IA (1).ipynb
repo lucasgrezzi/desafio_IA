{
  "nbformat": 4,
  "nbformat_minor": 0,
  "metadata": {
    "colab": {
      "provenance": []
    },
    "kernelspec": {
      "name": "python3",
      "display_name": "Python 3"
    },
    "language_info": {
      "name": "python"
    }
  },
  "cells": [
    {
      "cell_type": "markdown",
      "source": [
        "### **1. Carregamento e União dos Dados**\n",
        "\n",
        "Nesta primeira etapa, vamos unificar todas as tabelas do projeto em uma única tabela mestra. Isso é crucial para que possamos trabalhar com todos os dados relevantes (reviews, clientes, produtos e pedidos) em um só lugar, o que facilita a análise e a preparação para o modelo.\n",
        "\n",
        "Usaremos a biblioteca **Pandas** para ler os arquivos CSV e a função `pd.merge()` para unir os dataframes, garantindo que as informações de clientes, produtos, pedidos e reviews fiquem em um único lugar.\n",
        "\n",
        "Após a união, salvaremos a nova tabela em um arquivo CSV. Isso evita que tenhamos que carregar e unir os dados repetidamente em cada execução, economizando tempo. O arquivo será salvo na pasta `archive_final`, garantindo que o seu projeto fique bem organizado."
      ],
      "metadata": {
        "id": "R4zsZv4tmvma"
      }
    },
    {
      "cell_type": "code",
      "execution_count": 3,
      "metadata": {
        "colab": {
          "base_uri": "https://localhost:8080/",
          "height": 0
        },
        "id": "emwJ-ejwkrqC",
        "outputId": "7eb98189-c1da-45f4-eb31-7acbc94a9965"
      },
      "outputs": [
        {
          "output_type": "stream",
          "name": "stdout",
          "text": [
            "Tabela mestra salva com sucesso em archive_final/tabela_mestra.csv\n"
          ]
        }
      ],
      "source": [
        "import pandas as pd\n",
        "import os\n",
        "\n",
        "# 1. Carregar os datasets (ajuste os caminhos se necessário)\n",
        "df_notas = pd.read_csv('/content/projeto/archives/olist_order_reviews_dataset.csv')\n",
        "df_pedidos = pd.read_csv('/content/projeto/archives/olist_orders_dataset.csv')\n",
        "df_itens_pedidos = pd.read_csv('/content/projeto/archives/olist_order_items_dataset.csv')\n",
        "df_produtos = pd.read_csv('/content/projeto/archives/olist_products_dataset.csv')\n",
        "df_clientes = pd.read_csv('/content/projeto/archives/olist_customers_dataset.csv')\n",
        "df_tranducao = pd.read_csv('/content/projeto/archives/product_category_name_translation.csv')\n",
        "\n",
        "# 2. Realizar as junções sequenciais para criar a tabela mestra\n",
        "df_mestra = pd.merge(df_notas, df_pedidos, on='order_id', how='left')\n",
        "df_mestra = pd.merge(df_mestra, df_clientes, on='customer_id', how='left')\n",
        "df_mestra = pd.merge(df_mestra, df_itens_pedidos, on='order_id', how='left')\n",
        "df_mestra = pd.merge(df_mestra, df_produtos, on='product_id', how='left')\n",
        "df_mestra = pd.merge(df_mestra, df_tranducao, on='product_category_name', how='left')\n",
        "\n",
        "# 3. Criar a pasta 'archive_final' se ela não existir\n",
        "pasta_destino = 'archive_final'\n",
        "if not os.path.exists(pasta_destino):\n",
        "    os.makedirs(pasta_destino)\n",
        "\n",
        "# 4. Definir o caminho completo para o arquivo de destino\n",
        "caminho_completo = os.path.join(pasta_destino, 'tabela_mestra.csv')\n",
        "\n",
        "# 5. Salvar a tabela mestra no novo local\n",
        "df_mestra.to_csv(caminho_completo, index=False)\n",
        "\n",
        "print(f'Tabela mestra salva com sucesso em {caminho_completo}')"
      ]
    },
    {
      "cell_type": "markdown",
      "source": [
        "### **2. Pré-processamento e Criação da Variável Alvo**\n",
        "\n",
        "Nesta etapa, vamos preparar a nossa tabela mestra para o treinamento do modelo. O principal objetivo é criar a variável alvo (`sentimento_review`), que o modelo usará para aprender a classificar.\n",
        "\n",
        "O processo seguirá estes passos:\n",
        "1.  **Criação da Variável Alvo:** A coluna `review_score` (nota da review) será usada para classificar o sentimento. Reviews com nota 4 ou 5 serão classificadas como **positivas** (valor `1`), e reviews com nota 1 ou 2 como **negativas** (valor `0`). As reviews com nota 3 serão removidas para garantir que o modelo aprenda com exemplos claros de sentimentos.\n",
        "2.  **Limpeza do Texto:** A coluna de comentários (`review_comment_message`) terá seus valores ausentes (`NaN`) substituídos por strings vazias (`''`). Em seguida, o texto será convertido para letras minúsculas e toda a pontuação será removida, facilitando o processamento pelo modelo.\n"
      ],
      "metadata": {
        "id": "bSLgo2SnnBmA"
      }
    },
    {
      "cell_type": "code",
      "source": [
        "import pandas as pd\n",
        "\n",
        "# 1. Carregar a tabela mestra\n",
        "df_mestra = pd.read_csv('/content/projeto/archive_final/tabela_mestra.csv')\n",
        "\n",
        "# 2. Criar a variável alvo 'sentimento_review' e remover as reviews neutras\n",
        "df_mestra_limpa = df_mestra.dropna(subset=['review_score']).copy()\n",
        "df_mestra_limpa.loc[:, 'sentimento_review'] = df_mestra_limpa['review_score'].apply(\n",
        "    lambda x: 1 if x >= 4 else (0 if x <= 2 else None)\n",
        ")\n",
        "\n",
        "# 3. Limpeza dos dados de texto\n",
        "# Substitua os valores NaN na coluna original por uma string vazia\n",
        "df_mestra_limpa.loc[:, 'review_comment_message'] = df_mestra_limpa['review_comment_message'].fillna('')\n",
        "\n",
        "# Crie a nova coluna 'review_comment_message_limpo' a partir da coluna limpa\n",
        "# Crie a nova coluna com o texto limpo\n",
        "df_mestra_limpa.loc[:, 'review_comment_message_limpo'] = (\n",
        "    df_mestra_limpa['review_comment_message']\n",
        "    .str.lower()\n",
        "    .str.replace(r'[^\\w\\s]', '', regex=True) # Este é o código que você já tem\n",
        ")\n",
        "\n",
        "print('Amostra de comentários limpos:')\n",
        "print(df_mestra_limpa[['review_comment_message', 'review_comment_message_limpo']].head())\n",
        "# Verifica a contagem de valores nulos na coluna após a limpeza\n",
        "print('Valores nulos na coluna review_comment_message:', df_mestra_limpa['review_comment_message'].isnull().sum())\n",
        "\n",
        "\n"
      ],
      "metadata": {
        "colab": {
          "base_uri": "https://localhost:8080/",
          "height": 0
        },
        "id": "7qEK_dx5nA5a",
        "outputId": "d824300d-b2ae-49f8-a1cc-6ed03569a192"
      },
      "execution_count": 22,
      "outputs": [
        {
          "output_type": "stream",
          "name": "stdout",
          "text": [
            "Amostra de comentários limpos:\n",
            "                  review_comment_message          review_comment_message_limpo\n",
            "0                                                                             \n",
            "1                                                                             \n",
            "2                                                                             \n",
            "3                                                                             \n",
            "4  Recebi bem antes do prazo estipulado.  recebi bem antes do prazo estipulado\n",
            "Valores nulos na coluna review_comment_message: 0\n"
          ]
        }
      ]
    },
    {
      "cell_type": "markdown",
      "source": [
        "### **3. Engenharia de Features: Vetorização do Texto**\n",
        "\n",
        "Nesta fase, vamos transformar as palavras dos comentários em um formato numérico que o nosso modelo de Machine Learning possa entender.\n",
        "\n",
        "Para isso, usaremos o **`CountVectorizer`** para aplicar a técnica **Bag of Words**. O `CountVectorizer` irá:\n",
        "1.  Criar um vocabulário com as 5.000 palavras mais frequentes dos nossos comentários.\n",
        "2.  Converter cada review em um vetor numérico, onde cada número representa a contagem de uma palavra no vocabulário.\n",
        "\n",
        "Com essa etapa, teremos a nossa matriz de features (`X`) e a nossa variável alvo (`y`), prontas para serem usadas no treinamento do modelo."
      ],
      "metadata": {
        "id": "0zp68vd2nOys"
      }
    },
    {
      "cell_type": "code",
      "source": [
        "# Mude a importação\n",
        "from sklearn.feature_extraction.text import TfidfVectorizer\n",
        "\n",
        "# Substitua o CountVectorizer pelo TfidfVectorizer\n",
        "# max_features ainda é útil para manter o vocabulário gerenciável\n",
        "vectorizer = TfidfVectorizer(max_features=5000)\n",
        "\n",
        "# O restante do código de vetorização e treinamento continua o mesmo\n",
        "X = vectorizer.fit_transform(df_mestra_limpa['review_comment_message_limpo'])\n",
        "\n",
        "y = df_mestra_limpa['sentimento_review']\n",
        "\n",
        "# Verifique o formato da matriz de features (X) e do vetor alvo (y)\n",
        "print('Formato da matriz de features (X):', X.shape)\n",
        "print('Formato do vetor alvo (y):', y.shape)\n",
        "\n",
        "# O restante do seu código de treino e avaliação não precisa de alteração."
      ],
      "metadata": {
        "colab": {
          "base_uri": "https://localhost:8080/",
          "height": 0
        },
        "id": "ElKXXtW5nPK7",
        "outputId": "0edfa592-8057-4362-f315-ac889ccd79b2"
      },
      "execution_count": 25,
      "outputs": [
        {
          "output_type": "stream",
          "name": "stdout",
          "text": [
            "Formato da matriz de features (X): (113131, 5000)\n",
            "Formato do vetor alvo (y): (113131,)\n"
          ]
        }
      ]
    },
    {
      "cell_type": "markdown",
      "source": [
        "### **4. Treinamento do Modelo de Classificação**\n",
        "\n",
        "Agora que nossos dados estão prontos, vamos treiná-los. Para isso, usaremos o `train_test_split` para dividir os dados em conjuntos de treinamento e teste. Isso nos permite treinar o modelo com uma parte dos dados e avaliar seu desempenho em dados que ele nunca viu, garantindo que ele não simplesmente \"decore\" as respostas.\n",
        "\n",
        "Em seguida, treinaremos o modelo com o classificador `MultinomialNB`, um algoritmo ideal para tarefas de classificação de texto devido à sua eficiência e bom desempenho."
      ],
      "metadata": {
        "id": "c72OUAD_nUV1"
      }
    },
    {
      "cell_type": "code",
      "source": [
        "from sklearn.model_selection import train_test_split\n",
        "from sklearn.naive_bayes import MultinomialNB\n",
        "import pandas as pd\n",
        "\n",
        "# Load the dataframe created in the previous step\n",
        "\n",
        "\n",
        "# The features are the vectorized text\n",
        "X = vectorizer.fit_transform(df_mestra_limpa['review_comment_message_limpo'])\n",
        "\n",
        "# The target variable is the 'sentimento_review' column\n",
        "# Make sure to drop any potential NaN values from y before using it\n",
        "y = df_mestra_limpa['sentimento_review'].dropna()\n",
        "\n",
        "# Now, we need to ensure X and y have the same number of rows.\n",
        "# Filter X to match the cleaned y\n",
        "X = X[y.index]\n",
        "\n",
        "# Split the data into training and testing sets\n",
        "X_treino, X_teste, y_treino, y_teste = train_test_split(X, y, test_size=0.2, random_state=42)\n",
        "\n",
        "# Create and train the Naive Bayes classifier\n",
        "modelo = MultinomialNB()\n",
        "modelo.fit(X_treino, y_treino)\n",
        "\n",
        "# Make predictions on the test set\n",
        "y_previsao = modelo.predict(X_teste)\n",
        "\n",
        "print('O modelo foi treinado com sucesso!')\n"
      ],
      "metadata": {
        "colab": {
          "base_uri": "https://localhost:8080/",
          "height": 0
        },
        "id": "ajUIISRcnUqX",
        "outputId": "b6172f51-3df6-4189-eacd-60fb8730975c"
      },
      "execution_count": 26,
      "outputs": [
        {
          "output_type": "stream",
          "name": "stdout",
          "text": [
            "O modelo foi treinado com sucesso!\n"
          ]
        }
      ]
    },
    {
      "cell_type": "markdown",
      "source": [
        "### **5. Avaliação do Modelo e Matriz de Confusão**\n",
        "\n",
        "Após o treinamento, o modelo precisa ser avaliado para entender se ele está fazendo previsões precisas. Nesta etapa, vamos usar três métricas essenciais:\n",
        "1.  **Acurácia (`accuracy_score`)**: A porcentagem de previsões corretas que o modelo fez.\n",
        "2.  **Relatório de Classificação (`classification_report`)**: Fornece métricas mais detalhadas como precisão, recall e f1-score para cada classe (`0` e `1`).\n",
        "3.  **Matriz de Confusão (`confusion_matrix`)**: Uma tabela que mostra o número de acertos e erros do modelo, permitindo visualizar onde ele acertou e onde errou.\n",
        "\n",
        "Essas métricas nos darão uma visão clara do desempenho do nosso modelo."
      ],
      "metadata": {
        "id": "S8FYsP9LnalG"
      }
    },
    {
      "cell_type": "code",
      "source": [
        "from sklearn.metrics import accuracy_score, confusion_matrix, classification_report\n",
        "\n",
        "# Calcule a acurácia do modelo\n",
        "acuracia = accuracy_score(y_teste, y_previsao)\n",
        "print(f'Acurácia do modelo: {acuracia:.2f}\\n')\n",
        "\n",
        "# Mostre a Matriz de Confusão\n",
        "print('Matriz de Confusão:')\n",
        "print(confusion_matrix(y_teste, y_previsao))\n",
        "\n",
        "# Mostre o Relatório de Classificação\n",
        "print('\\nRelatório de Classificação:')\n",
        "print(classification_report(y_teste, y_previsao))\n",
        "\n"
      ],
      "metadata": {
        "colab": {
          "base_uri": "https://localhost:8080/",
          "height": 0
        },
        "id": "Ssg_c_lvna36",
        "outputId": "2d4622e0-0cf1-457e-ba99-c76a71197ed8"
      },
      "execution_count": 27,
      "outputs": [
        {
          "output_type": "stream",
          "name": "stdout",
          "text": [
            "Acurácia do modelo: 0.92\n",
            "\n",
            "Matriz de Confusão:\n",
            "[[ 2198  1473]\n",
            " [  238 16822]]\n",
            "\n",
            "Relatório de Classificação:\n",
            "              precision    recall  f1-score   support\n",
            "\n",
            "         0.0       0.90      0.60      0.72      3671\n",
            "         1.0       0.92      0.99      0.95     17060\n",
            "\n",
            "    accuracy                           0.92     20731\n",
            "   macro avg       0.91      0.79      0.84     20731\n",
            "weighted avg       0.92      0.92      0.91     20731\n",
            "\n"
          ]
        }
      ]
    },
    {
      "cell_type": "markdown",
      "source": [
        "### **6. Visualização da Matriz de Confusão**\n",
        "\n",
        "A matriz de confusão é uma ferramenta poderosa para entender o desempenho do modelo de forma visual. Embora tenhamos o relatório de classificação, a visualização da matriz nos ajuda a identificar facilmente onde o modelo acertou e onde errou.\n",
        "\n",
        "O mapa de calor abaixo mostra:\n",
        "* **Verdadeiros Positivos (Canto inferior direito)**: Reviews positivas que foram classificadas corretamente como positivas.\n",
        "* **Verdadeiros Negativos (Canto superior esquerdo)**: Reviews negativas que foram classificadas corretamente como negativas.\n",
        "* **Falsos Positivos (Canto superior direito)**: Reviews negativas que foram erroneamente classificadas como positivas.\n",
        "* **Falsos Negativos (Canto inferior esquerdo)**: Reviews positivas que foram erroneamente classificadas como negativas."
      ],
      "metadata": {
        "id": "A7DHPJEanddJ"
      }
    },
    {
      "cell_type": "code",
      "source": [
        "import matplotlib.pyplot as plt\n",
        "import seaborn as sns\n",
        "from sklearn.metrics import confusion_matrix\n",
        "\n",
        "# Crie a matriz de confusão\n",
        "cm = confusion_matrix(y_teste, y_previsao)\n",
        "\n",
        "# Use Seaborn para plotar um mapa de calor\n",
        "plt.figure(figsize=(8, 6))\n",
        "sns.heatmap(cm, annot=True, fmt='d', cmap='Blues', xticklabels=['Negativo', 'Positivo'], yticklabels=['Negativo', 'Positivo'])\n",
        "plt.title('Matriz de Confusão')\n",
        "plt.ylabel('Real')\n",
        "plt.xlabel('Previsto')\n",
        "plt.show()"
      ],
      "metadata": {
        "colab": {
          "base_uri": "https://localhost:8080/",
          "height": 564
        },
        "id": "fj00_mJ4nduj",
        "outputId": "b061ea9f-9bb1-426e-c5b2-d2f698f812c9"
      },
      "execution_count": 28,
      "outputs": [
        {
          "output_type": "display_data",
          "data": {
            "text/plain": [
              "<Figure size 800x600 with 2 Axes>"
            ],
            "image/png": "[encoded data removed]"
          },
          "metadata": {}
        }
      ]
    },
    {
      "cell_type": "markdown",
      "source": [
        "### **5. Bônus: Extraindo as Razões por Trás das Reviews**\n",
        "\n",
        "Para o bônus, vamos além da simples classificação. Extrairemos as palavras que mais contribuem para o sentimento, permitindo identificar as razões que tornam uma review positiva ou negativa. Isso demonstra a capacidade de traduzir dados em *insights* de negócio.\n",
        "\n",
        "Para esta análise, usaremos a **Regressão Logística** e o **TF-IDF**, que nos permitem encontrar as palavras com maior peso na classificação."
      ],
      "metadata": {
        "id": "PgBFhgzxzVHB"
      }
    },
    {
      "cell_type": "code",
      "source": [
        "import pandas as pd\n",
        "import numpy as np\n",
        "from sklearn.feature_extraction.text import TfidfVectorizer\n",
        "from sklearn.linear_model import LogisticRegression\n",
        "from sklearn.model_selection import train_test_split\n",
        "\n",
        "# --- Carregar e preparar os dados reais ---\n",
        "try:\n",
        "    df_mestra = pd.read_csv('/content/projeto/archive_final/tabela_mestra.csv')\n",
        "except FileNotFoundError:\n",
        "    print(\"Erro: O arquivo 'tabela_mestra.csv' não foi encontrado.\")\n",
        "    print(\"Certifique-se de que a etapa de união dos dados foi executada corretamente.\")\n",
        "    exit()\n",
        "\n",
        "# Criar a variável alvo e limpar os comentários\n",
        "df_mestra.loc[:, 'sentimento_review'] = df_mestra['review_score'].apply(\n",
        "    lambda x: 1 if x >= 4 else (0 if x <= 2 else None)\n",
        ")\n",
        "df_mestra.dropna(subset=['sentimento_review'], inplace=True)\n",
        "df_mestra.loc[:, 'review_comment_message'] = df_mestra['review_comment_message'].fillna('')\n",
        "df_mestra.loc[:, 'review_comment_message_limpo'] = (\n",
        "    df_mestra['review_comment_message']\n",
        "    .str.lower()\n",
        "    .str.replace(r'[^\\w\\s]', '', regex=True)\n",
        ")\n",
        "\n",
        "# Criar um subconjunto de dados para este exemplo\n",
        "df_exemplo = df_mestra.sample(n=1000, random_state=42)\n",
        "\n",
        "# Separar features (X) e alvo (y) do subconjunto\n",
        "X = df_exemplo['review_comment_message_limpo']\n",
        "y = df_exemplo['sentimento_review']\n",
        "\n",
        "# --- Recriar o vetorizador e o modelo ---\n",
        "vectorizer = TfidfVectorizer(max_features=5000)\n",
        "X_vetorizado = vectorizer.fit_transform(X)\n",
        "\n",
        "X_treino, X_teste, y_treino, y_teste = train_test_split(X_vetorizado, y, test_size=0.2, random_state=42)\n",
        "modelo = LogisticRegression()\n",
        "modelo.fit(X_treino, y_treino)\n",
        "\n",
        "# --- Extração das palavras-chave ---\n",
        "def get_top_n_words(model, feature_names, n):\n",
        "    # Encontra as palavras mais importantes para a classe negativa (0)\n",
        "    top_n_negative_idx = model.coef_[0].argsort()[:n]\n",
        "    top_n_negative_words = [feature_names[i] for i in top_n_negative_idx]\n",
        "\n",
        "    # Encontra as palavras mais importantes para a classe positiva (1)\n",
        "    top_n_positive_idx = model.coef_[0].argsort()[-n:]\n",
        "    top_n_positive_words = [feature_names[i] for i in top_n_positive_idx]\n",
        "\n",
        "    return top_n_positive_words, top_n_negative_words\n",
        "\n",
        "# Obtém as palavras do vocabulário\n",
        "feature_names = vectorizer.get_feature_names_out()\n",
        "\n",
        "# Extrai as 20 palavras mais relevantes para cada classe\n",
        "top_positive_words, top_negative_words = get_top_n_words(modelo, feature_names, 20)\n",
        "\n",
        "print(\"As 20 palavras que mais indicam uma review POSITIVA são:\")\n",
        "print(top_positive_words)\n",
        "\n",
        "print(\"\\nAs 20 palavras que mais indicam uma review NEGATIVA são:\")\n",
        "print(top_negative_words)\n"
      ],
      "metadata": {
        "colab": {
          "base_uri": "https://localhost:8080/",
          "height": 0
        },
        "id": "hm4ccBNlvCOe",
        "outputId": "cbf7467c-3b35-498a-d0fd-b7aec1061d87"
      },
      "execution_count": 35,
      "outputs": [
        {
          "output_type": "stream",
          "name": "stdout",
          "text": [
            "As 20 palavras que mais indicam uma review POSITIVA são:\n",
            "['ok', 'certo', 'satisfeito', 'lindo', 'corretamente', 'parabéns', 'conforme', 'otimo', 'tudo', 'ótimo', 'qualidade', 'rápida', 'recomendo', 'ótima', 'bem', 'excelente', 'muito', 'bom', 'prazo', 'antes']\n",
            "\n",
            "As 20 palavras que mais indicam uma review NEGATIVA são:\n",
            "['não', 'recebi', 'um', 'de', 'veio', 'comprei', 'que', 'para', 'meu', 'na', 'nao', 'uma', 'só', 'com', 'péssimo', 'pedido', 'produtos', 'até', 'porém', 'estou']\n"
          ]
        }
      ]
    }
  ]
}